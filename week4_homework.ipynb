{
  "nbformat": 4,
  "nbformat_minor": 0,
  "metadata": {
    "colab": {
      "name": "week4 homework",
      "provenance": [],
      "collapsed_sections": [],
      "authorship_tag": "ABX9TyPKDOT4mKEggBPOS0agFO7O",
      "include_colab_link": true
    },
    "kernelspec": {
      "name": "python3",
      "display_name": "Python 3"
    },
    "language_info": {
      "name": "python"
    }
  },
  "cells": [
    {
      "cell_type": "markdown",
      "metadata": {
        "id": "view-in-github",
        "colab_type": "text"
      },
      "source": [
        "<a href=\"https://colab.research.google.com/github/1985shree/Data-science-Zoomcamp-projects/blob/main/week4_homework.ipynb\" target=\"_parent\"><img src=\"https://colab.research.google.com/assets/colab-badge.svg\" alt=\"Open In Colab\"/></a>"
      ]
    },
    {
      "cell_type": "code",
      "metadata": {
        "id": "luB_U2ZSJ_je"
      },
      "source": [
        "import pandas as pd\n",
        "import numpy as np\n",
        "\n",
        "import matplotlib.pyplot as plt\n",
        "import seaborn as sns\n"
      ],
      "execution_count": 1,
      "outputs": []
    },
    {
      "cell_type": "code",
      "metadata": {
        "colab": {
          "resources": {
            "http://localhost:8080/nbextensions/google.colab/files.js": {
              "data": "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",
              "ok": true,
              "headers": [
                [
                  "content-type",
                  "application/javascript"
                ]
              ],
              "status": 200,
              "status_text": ""
            }
          },
          "base_uri": "https://localhost:8080/",
          "height": 73
        },
        "id": "h8eplbPHKGoz",
        "outputId": "f6a932a9-ac3d-4476-fb46-71c9a0507de3"
      },
      "source": [
        "#uploading ipynb from local folder to google drive/colab folder\n",
        "from google.colab import files\n",
        "uploaded = files.upload()"
      ],
      "execution_count": 2,
      "outputs": [
        {
          "output_type": "display_data",
          "data": {
            "text/html": [
              "\n",
              "     <input type=\"file\" id=\"files-7de0116b-4e68-4207-8f98-3b43577a57ff\" name=\"files[]\" multiple disabled\n",
              "        style=\"border:none\" />\n",
              "     <output id=\"result-7de0116b-4e68-4207-8f98-3b43577a57ff\">\n",
              "      Upload widget is only available when the cell has been executed in the\n",
              "      current browser session. Please rerun this cell to enable.\n",
              "      </output>\n",
              "      <script src=\"/nbextensions/google.colab/files.js\"></script> "
            ],
            "text/plain": [
              "<IPython.core.display.HTML object>"
            ]
          },
          "metadata": {}
        },
        {
          "output_type": "stream",
          "name": "stdout",
          "text": [
            "Saving CreditScoring.csv to CreditScoring.csv\n"
          ]
        }
      ]
    },
    {
      "cell_type": "markdown",
      "metadata": {
        "id": "SjgumIDnKMCn"
      },
      "source": [
        "Preparation"
      ]
    },
    {
      "cell_type": "markdown",
      "metadata": {
        "id": "Rzb9wW4VKO4n"
      },
      "source": [
        "We'll talk about this dataset in more details in week 6. But for now, use the following code to get started"
      ]
    },
    {
      "cell_type": "code",
      "metadata": {
        "id": "kxz4GqkDKSiV"
      },
      "source": [
        "import io\n",
        "\n",
        "df = pd.read_csv(io.BytesIO(uploaded['CreditScoring.csv']))\n",
        "df.head()\n",
        "df.columns = df.columns.str.lower()"
      ],
      "execution_count": 3,
      "outputs": []
    },
    {
      "cell_type": "markdown",
      "metadata": {
        "id": "6ZNgiVd_Ke_1"
      },
      "source": [
        "Some of the features are encoded as numbers. Use the following code to de-code them:"
      ]
    },
    {
      "cell_type": "code",
      "metadata": {
        "colab": {
          "base_uri": "https://localhost:8080/",
          "height": 202
        },
        "id": "T64AOy23Kgz2",
        "outputId": "8857da05-d922-407e-a180-fa7257d39820"
      },
      "source": [
        "status_values = {\n",
        "    1: 'ok',\n",
        "    2: 'default',\n",
        "    0: 'unk'\n",
        "}\n",
        "\n",
        "df.status = df.status.map(status_values)\n",
        "\n",
        "\n",
        "home_values = {\n",
        "    1: 'rent',\n",
        "    2: 'owner',\n",
        "    3: 'private',\n",
        "    4: 'ignore',\n",
        "    5: 'parents',\n",
        "    6: 'other',\n",
        "    0: 'unk'\n",
        "}\n",
        "\n",
        "df.home = df.home.map(home_values)\n",
        "\n",
        "marital_values = {\n",
        "    1: 'single',\n",
        "    2: 'married',\n",
        "    3: 'widow',\n",
        "    4: 'separated',\n",
        "    5: 'divorced',\n",
        "    0: 'unk'\n",
        "}\n",
        "\n",
        "df.marital = df.marital.map(marital_values)\n",
        "\n",
        "records_values = {\n",
        "    1: 'no',\n",
        "    2: 'yes',\n",
        "    0: 'unk'\n",
        "}\n",
        "\n",
        "df.records = df.records.map(records_values)\n",
        "\n",
        "job_values = {\n",
        "    1: 'fixed',\n",
        "    2: 'partime',\n",
        "    3: 'freelance',\n",
        "    4: 'others',\n",
        "    0: 'unk'\n",
        "}\n",
        "\n",
        "df.job = df.job.map(job_values)\n",
        "\n",
        "df.head()"
      ],
      "execution_count": 4,
      "outputs": [
        {
          "output_type": "execute_result",
          "data": {
            "text/html": [
              "<div>\n",
              "<style scoped>\n",
              "    .dataframe tbody tr th:only-of-type {\n",
              "        vertical-align: middle;\n",
              "    }\n",
              "\n",
              "    .dataframe tbody tr th {\n",
              "        vertical-align: top;\n",
              "    }\n",
              "\n",
              "    .dataframe thead th {\n",
              "        text-align: right;\n",
              "    }\n",
              "</style>\n",
              "<table border=\"1\" class=\"dataframe\">\n",
              "  <thead>\n",
              "    <tr style=\"text-align: right;\">\n",
              "      <th></th>\n",
              "      <th>status</th>\n",
              "      <th>seniority</th>\n",
              "      <th>home</th>\n",
              "      <th>time</th>\n",
              "      <th>age</th>\n",
              "      <th>marital</th>\n",
              "      <th>records</th>\n",
              "      <th>job</th>\n",
              "      <th>expenses</th>\n",
              "      <th>income</th>\n",
              "      <th>assets</th>\n",
              "      <th>debt</th>\n",
              "      <th>amount</th>\n",
              "      <th>price</th>\n",
              "    </tr>\n",
              "  </thead>\n",
              "  <tbody>\n",
              "    <tr>\n",
              "      <th>0</th>\n",
              "      <td>ok</td>\n",
              "      <td>9</td>\n",
              "      <td>rent</td>\n",
              "      <td>60</td>\n",
              "      <td>30</td>\n",
              "      <td>married</td>\n",
              "      <td>no</td>\n",
              "      <td>freelance</td>\n",
              "      <td>73</td>\n",
              "      <td>129</td>\n",
              "      <td>0</td>\n",
              "      <td>0</td>\n",
              "      <td>800</td>\n",
              "      <td>846</td>\n",
              "    </tr>\n",
              "    <tr>\n",
              "      <th>1</th>\n",
              "      <td>ok</td>\n",
              "      <td>17</td>\n",
              "      <td>rent</td>\n",
              "      <td>60</td>\n",
              "      <td>58</td>\n",
              "      <td>widow</td>\n",
              "      <td>no</td>\n",
              "      <td>fixed</td>\n",
              "      <td>48</td>\n",
              "      <td>131</td>\n",
              "      <td>0</td>\n",
              "      <td>0</td>\n",
              "      <td>1000</td>\n",
              "      <td>1658</td>\n",
              "    </tr>\n",
              "    <tr>\n",
              "      <th>2</th>\n",
              "      <td>default</td>\n",
              "      <td>10</td>\n",
              "      <td>owner</td>\n",
              "      <td>36</td>\n",
              "      <td>46</td>\n",
              "      <td>married</td>\n",
              "      <td>yes</td>\n",
              "      <td>freelance</td>\n",
              "      <td>90</td>\n",
              "      <td>200</td>\n",
              "      <td>3000</td>\n",
              "      <td>0</td>\n",
              "      <td>2000</td>\n",
              "      <td>2985</td>\n",
              "    </tr>\n",
              "    <tr>\n",
              "      <th>3</th>\n",
              "      <td>ok</td>\n",
              "      <td>0</td>\n",
              "      <td>rent</td>\n",
              "      <td>60</td>\n",
              "      <td>24</td>\n",
              "      <td>single</td>\n",
              "      <td>no</td>\n",
              "      <td>fixed</td>\n",
              "      <td>63</td>\n",
              "      <td>182</td>\n",
              "      <td>2500</td>\n",
              "      <td>0</td>\n",
              "      <td>900</td>\n",
              "      <td>1325</td>\n",
              "    </tr>\n",
              "    <tr>\n",
              "      <th>4</th>\n",
              "      <td>ok</td>\n",
              "      <td>0</td>\n",
              "      <td>rent</td>\n",
              "      <td>36</td>\n",
              "      <td>26</td>\n",
              "      <td>single</td>\n",
              "      <td>no</td>\n",
              "      <td>fixed</td>\n",
              "      <td>46</td>\n",
              "      <td>107</td>\n",
              "      <td>0</td>\n",
              "      <td>0</td>\n",
              "      <td>310</td>\n",
              "      <td>910</td>\n",
              "    </tr>\n",
              "  </tbody>\n",
              "</table>\n",
              "</div>"
            ],
            "text/plain": [
              "    status  seniority   home  time  age  ... income assets debt  amount  price\n",
              "0       ok          9   rent    60   30  ...    129      0    0     800    846\n",
              "1       ok         17   rent    60   58  ...    131      0    0    1000   1658\n",
              "2  default         10  owner    36   46  ...    200   3000    0    2000   2985\n",
              "3       ok          0   rent    60   24  ...    182   2500    0     900   1325\n",
              "4       ok          0   rent    36   26  ...    107      0    0     310    910\n",
              "\n",
              "[5 rows x 14 columns]"
            ]
          },
          "metadata": {},
          "execution_count": 4
        }
      ]
    },
    {
      "cell_type": "markdown",
      "metadata": {
        "id": "CaGSdRrYK6tS"
      },
      "source": [
        "Prepare the numerical variables:"
      ]
    },
    {
      "cell_type": "code",
      "metadata": {
        "id": "3kLpS7NaK8Bn"
      },
      "source": [
        "for c in ['income', 'assets', 'debt']:\n",
        "    df[c] = df[c].replace(to_replace=99999999, value=0)"
      ],
      "execution_count": 5,
      "outputs": []
    },
    {
      "cell_type": "markdown",
      "metadata": {
        "id": "lGiXKpBBLFKe"
      },
      "source": [
        "Remove clients with unknown default status"
      ]
    },
    {
      "cell_type": "code",
      "metadata": {
        "id": "GHv4iQJXLDdG"
      },
      "source": [
        "df = df[df.status != 'unk'].reset_index(drop=True)"
      ],
      "execution_count": 6,
      "outputs": []
    },
    {
      "cell_type": "markdown",
      "metadata": {
        "id": "hKkgcMfZLQOW"
      },
      "source": [
        "Create the target variable"
      ]
    },
    {
      "cell_type": "code",
      "metadata": {
        "id": "5_WBDkMxLRrG"
      },
      "source": [
        "df['default'] = (df.status == 'default').astype(int)\n",
        "del df['status']\n"
      ],
      "execution_count": 7,
      "outputs": []
    },
    {
      "cell_type": "markdown",
      "metadata": {
        "id": "5DECB55-La3g"
      },
      "source": [
        "Your code: \n",
        "What are the categorical variables? What are the numerical?"
      ]
    },
    {
      "cell_type": "markdown",
      "metadata": {
        "id": "3vxXdL0pLeMe"
      },
      "source": [
        "Categorical: status,\thome, marital,\trecords,\tjob,\t\n",
        "Numerical: seniority,\ttime,\tage, expenses, income, \tassets, \tdebt, \tamount, price"
      ]
    },
    {
      "cell_type": "markdown",
      "metadata": {
        "id": "dEBux4X0Nfae"
      },
      "source": [
        "Split the data into 3 parts: train/validation/test with 60%/20%/20% distribution. Use train_test_split funciton for that with random_state=1"
      ]
    },
    {
      "cell_type": "code",
      "metadata": {
        "id": "cEFO0dHnNema"
      },
      "source": [
        "from sklearn.model_selection import train_test_split\n",
        "df_full_train, df_test = train_test_split(df, test_size = 0.2, random_state = 1)\n",
        "df_train, df_val = train_test_split(df_full_train, test_size = 0.25, random_state = 1)"
      ],
      "execution_count": 8,
      "outputs": []
    },
    {
      "cell_type": "code",
      "metadata": {
        "id": "Snt8dc3eTGBt"
      },
      "source": [
        "df_train.reset_index(drop = True)\n",
        "df_val.reset_index(drop = True)\n",
        "df_test.reset_index(drop = True)\n",
        "\n",
        "\n",
        "y_train = df_train.default.values\n",
        "y_val = df_val.default.values\n",
        "y_test = df_test.default.values"
      ],
      "execution_count": 9,
      "outputs": []
    },
    {
      "cell_type": "code",
      "metadata": {
        "id": "yTDgXgHTTrj-"
      },
      "source": [
        "del(df_train['default'])\n",
        "del(df_val['default'])\n",
        "del(df_test['default'])"
      ],
      "execution_count": 10,
      "outputs": []
    },
    {
      "cell_type": "markdown",
      "metadata": {
        "id": "4eAL2fa7S9g9"
      },
      "source": [
        "Question 1\n",
        "ROC AUC could also be used to evaluate feature importance of numerical variables.\n",
        "\n",
        "Let's do that\n",
        "\n",
        "For each numerical variable, use it as score and compute AUC with the \"default\" variable\n",
        "Use the training dataset for that\n",
        "If your AUC is < 0.5, invert this variable by putting \"-\" in front\n",
        "\n",
        "(e.g. -df_train['expenses'])\n",
        "\n",
        "AUC can go below 0.5 if the variable is negatively correlated with the target varialble. You can change the direction of the correlation by negating this variable - then negative correlation becomes positive."
      ]
    },
    {
      "cell_type": "code",
      "metadata": {
        "id": "nInH5OBFk16M"
      },
      "source": [
        "cat = ['home', 'marital',\t'records',\t'job']\n",
        "num = ['seniority', 'time', 'age', 'expenses', 'income', 'assets', 'debt', 'amount', 'price']"
      ],
      "execution_count": 11,
      "outputs": []
    },
    {
      "cell_type": "code",
      "metadata": {
        "colab": {
          "base_uri": "https://localhost:8080/",
          "height": 415
        },
        "id": "WXg3tp8kNOyY",
        "outputId": "19295be7-df30-4a42-bb27-9049e7dd65f0"
      },
      "source": [
        "df_train[num]"
      ],
      "execution_count": 12,
      "outputs": [
        {
          "output_type": "execute_result",
          "data": {
            "text/html": [
              "<div>\n",
              "<style scoped>\n",
              "    .dataframe tbody tr th:only-of-type {\n",
              "        vertical-align: middle;\n",
              "    }\n",
              "\n",
              "    .dataframe tbody tr th {\n",
              "        vertical-align: top;\n",
              "    }\n",
              "\n",
              "    .dataframe thead th {\n",
              "        text-align: right;\n",
              "    }\n",
              "</style>\n",
              "<table border=\"1\" class=\"dataframe\">\n",
              "  <thead>\n",
              "    <tr style=\"text-align: right;\">\n",
              "      <th></th>\n",
              "      <th>seniority</th>\n",
              "      <th>time</th>\n",
              "      <th>age</th>\n",
              "      <th>expenses</th>\n",
              "      <th>income</th>\n",
              "      <th>assets</th>\n",
              "      <th>debt</th>\n",
              "      <th>amount</th>\n",
              "      <th>price</th>\n",
              "    </tr>\n",
              "  </thead>\n",
              "  <tbody>\n",
              "    <tr>\n",
              "      <th>1877</th>\n",
              "      <td>12</td>\n",
              "      <td>24</td>\n",
              "      <td>28</td>\n",
              "      <td>45</td>\n",
              "      <td>102</td>\n",
              "      <td>0</td>\n",
              "      <td>0</td>\n",
              "      <td>700</td>\n",
              "      <td>1229</td>\n",
              "    </tr>\n",
              "    <tr>\n",
              "      <th>1803</th>\n",
              "      <td>4</td>\n",
              "      <td>60</td>\n",
              "      <td>28</td>\n",
              "      <td>60</td>\n",
              "      <td>143</td>\n",
              "      <td>0</td>\n",
              "      <td>0</td>\n",
              "      <td>1150</td>\n",
              "      <td>1630</td>\n",
              "    </tr>\n",
              "    <tr>\n",
              "      <th>3400</th>\n",
              "      <td>0</td>\n",
              "      <td>60</td>\n",
              "      <td>27</td>\n",
              "      <td>35</td>\n",
              "      <td>295</td>\n",
              "      <td>6000</td>\n",
              "      <td>0</td>\n",
              "      <td>1950</td>\n",
              "      <td>2208</td>\n",
              "    </tr>\n",
              "    <tr>\n",
              "      <th>3529</th>\n",
              "      <td>6</td>\n",
              "      <td>48</td>\n",
              "      <td>28</td>\n",
              "      <td>45</td>\n",
              "      <td>114</td>\n",
              "      <td>3500</td>\n",
              "      <td>0</td>\n",
              "      <td>650</td>\n",
              "      <td>1255</td>\n",
              "    </tr>\n",
              "    <tr>\n",
              "      <th>1721</th>\n",
              "      <td>12</td>\n",
              "      <td>36</td>\n",
              "      <td>42</td>\n",
              "      <td>60</td>\n",
              "      <td>0</td>\n",
              "      <td>15000</td>\n",
              "      <td>0</td>\n",
              "      <td>1000</td>\n",
              "      <td>1500</td>\n",
              "    </tr>\n",
              "    <tr>\n",
              "      <th>...</th>\n",
              "      <td>...</td>\n",
              "      <td>...</td>\n",
              "      <td>...</td>\n",
              "      <td>...</td>\n",
              "      <td>...</td>\n",
              "      <td>...</td>\n",
              "      <td>...</td>\n",
              "      <td>...</td>\n",
              "      <td>...</td>\n",
              "    </tr>\n",
              "    <tr>\n",
              "      <th>2436</th>\n",
              "      <td>0</td>\n",
              "      <td>48</td>\n",
              "      <td>54</td>\n",
              "      <td>135</td>\n",
              "      <td>0</td>\n",
              "      <td>0</td>\n",
              "      <td>0</td>\n",
              "      <td>2000</td>\n",
              "      <td>2476</td>\n",
              "    </tr>\n",
              "    <tr>\n",
              "      <th>1956</th>\n",
              "      <td>6</td>\n",
              "      <td>12</td>\n",
              "      <td>33</td>\n",
              "      <td>85</td>\n",
              "      <td>250</td>\n",
              "      <td>0</td>\n",
              "      <td>0</td>\n",
              "      <td>500</td>\n",
              "      <td>1500</td>\n",
              "    </tr>\n",
              "    <tr>\n",
              "      <th>91</th>\n",
              "      <td>9</td>\n",
              "      <td>60</td>\n",
              "      <td>32</td>\n",
              "      <td>35</td>\n",
              "      <td>105</td>\n",
              "      <td>0</td>\n",
              "      <td>0</td>\n",
              "      <td>1490</td>\n",
              "      <td>1490</td>\n",
              "    </tr>\n",
              "    <tr>\n",
              "      <th>3602</th>\n",
              "      <td>0</td>\n",
              "      <td>60</td>\n",
              "      <td>21</td>\n",
              "      <td>35</td>\n",
              "      <td>149</td>\n",
              "      <td>3000</td>\n",
              "      <td>0</td>\n",
              "      <td>1400</td>\n",
              "      <td>1829</td>\n",
              "    </tr>\n",
              "    <tr>\n",
              "      <th>1708</th>\n",
              "      <td>8</td>\n",
              "      <td>60</td>\n",
              "      <td>26</td>\n",
              "      <td>59</td>\n",
              "      <td>140</td>\n",
              "      <td>0</td>\n",
              "      <td>0</td>\n",
              "      <td>1400</td>\n",
              "      <td>1538</td>\n",
              "    </tr>\n",
              "  </tbody>\n",
              "</table>\n",
              "<p>2672 rows × 9 columns</p>\n",
              "</div>"
            ],
            "text/plain": [
              "      seniority  time  age  expenses  income  assets  debt  amount  price\n",
              "1877         12    24   28        45     102       0     0     700   1229\n",
              "1803          4    60   28        60     143       0     0    1150   1630\n",
              "3400          0    60   27        35     295    6000     0    1950   2208\n",
              "3529          6    48   28        45     114    3500     0     650   1255\n",
              "1721         12    36   42        60       0   15000     0    1000   1500\n",
              "...         ...   ...  ...       ...     ...     ...   ...     ...    ...\n",
              "2436          0    48   54       135       0       0     0    2000   2476\n",
              "1956          6    12   33        85     250       0     0     500   1500\n",
              "91            9    60   32        35     105       0     0    1490   1490\n",
              "3602          0    60   21        35     149    3000     0    1400   1829\n",
              "1708          8    60   26        59     140       0     0    1400   1538\n",
              "\n",
              "[2672 rows x 9 columns]"
            ]
          },
          "metadata": {},
          "execution_count": 12
        }
      ]
    },
    {
      "cell_type": "code",
      "metadata": {
        "id": "E4RexuFSRPhF"
      },
      "source": [
        "from sklearn.metrics import roc_auc_score\n",
        "from sklearn.metrics import roc_curve"
      ],
      "execution_count": 13,
      "outputs": []
    },
    {
      "cell_type": "code",
      "metadata": {
        "id": "bmpj81VETFP-",
        "colab": {
          "base_uri": "https://localhost:8080/"
        },
        "outputId": "48e07bd6-88e9-4350-9ae9-5726c0e95a51"
      },
      "source": [
        "for c in num:\n",
        "  auc = roc_auc_score(y_train, df_train[c])\n",
        "  if auc < 0.5:\n",
        "    auc = roc_auc_score(y_train, -df_train[c])\n",
        "  print(c, '   ' , auc)"
      ],
      "execution_count": 14,
      "outputs": [
        {
          "output_type": "stream",
          "name": "stdout",
          "text": [
            "seniority     0.7093778624491943\n",
            "time     0.5608662489595051\n",
            "age     0.5732933272499939\n",
            "expenses     0.5009184217217011\n",
            "income     0.682006666132633\n",
            "assets     0.6486042567122802\n",
            "debt     0.5047829675783548\n",
            "amount     0.5910773431595518\n",
            "price     0.5043329862114843\n"
          ]
        }
      ]
    },
    {
      "cell_type": "markdown",
      "metadata": {
        "id": "XsNF9-WLO5Ux"
      },
      "source": [
        "**Training the model**\n",
        "\n",
        "From now on, use these columns only:"
      ]
    },
    {
      "cell_type": "code",
      "metadata": {
        "id": "2NP9XA3cdWzi"
      },
      "source": [
        "features = ['seniority', 'income', 'assets', 'records', 'job', 'home']\n"
      ],
      "execution_count": 15,
      "outputs": []
    },
    {
      "cell_type": "code",
      "metadata": {
        "id": "gHZHN7RsdqA8"
      },
      "source": [
        "from sklearn.feature_extraction import DictVectorizer"
      ],
      "execution_count": 16,
      "outputs": []
    },
    {
      "cell_type": "code",
      "metadata": {
        "id": "UzS2L0G3ddAD"
      },
      "source": [
        "dv = DictVectorizer( sparse = False)"
      ],
      "execution_count": 17,
      "outputs": []
    },
    {
      "cell_type": "code",
      "metadata": {
        "id": "T5ropuhodhZD"
      },
      "source": [
        "train_dict = df_train[features].to_dict(orient = 'records')\n",
        "X_train = dv.fit_transform(train_dict)\n"
      ],
      "execution_count": 18,
      "outputs": []
    },
    {
      "cell_type": "markdown",
      "metadata": {
        "id": "1Qf1m9jrYqAv"
      },
      "source": [
        "logistic regression"
      ]
    },
    {
      "cell_type": "code",
      "metadata": {
        "id": "S8rperx8YrON"
      },
      "source": [
        "from sklearn.linear_model import LogisticRegression\n",
        "from sklearn.metrics import accuracy_score"
      ],
      "execution_count": 20,
      "outputs": []
    },
    {
      "cell_type": "code",
      "metadata": {
        "id": "51Ht0ZIATVS_"
      },
      "source": [
        "model = LogisticRegression(solver='liblinear', C=1.0, max_iter=1000)"
      ],
      "execution_count": 21,
      "outputs": []
    },
    {
      "cell_type": "code",
      "metadata": {
        "colab": {
          "base_uri": "https://localhost:8080/"
        },
        "id": "cm6k-TXiTo0j",
        "outputId": "931642d0-1192-47a8-d6f4-5eff970b61ca"
      },
      "source": [
        "model.fit(X_train, y_train)"
      ],
      "execution_count": 22,
      "outputs": [
        {
          "output_type": "execute_result",
          "data": {
            "text/plain": [
              "LogisticRegression(C=1.0, class_weight=None, dual=False, fit_intercept=True,\n",
              "                   intercept_scaling=1, l1_ratio=None, max_iter=1000,\n",
              "                   multi_class='auto', n_jobs=None, penalty='l2',\n",
              "                   random_state=None, solver='liblinear', tol=0.0001, verbose=0,\n",
              "                   warm_start=False)"
            ]
          },
          "metadata": {},
          "execution_count": 22
        }
      ]
    },
    {
      "cell_type": "markdown",
      "metadata": {
        "id": "ti9RIGRcTyIY"
      },
      "source": [
        "validation dataset"
      ]
    },
    {
      "cell_type": "code",
      "metadata": {
        "id": "KERKo5-PT0gx"
      },
      "source": [
        "val_dict = df_val[features].to_dict(orient = 'records')\n",
        "X_val = dv.transform(val_dict)\n",
        "\n",
        "y_pred = model.predict_proba(X_val)[:, 1]\n",
        "\n",
        "#predict_proba_ means, the probability of occurance of 0 is 0.237… and 1 is 0.762…for example...\n",
        "#this comes as a list of values, for target variables being 0 and 1 here, we should have one probability for 0 and one for 1 for y_pred.\n",
        "#Suppose you only want the probability of getting the output either as 0 or 1, you can do some changes in your code and you will get only one output for each observation.\n",
        "# You can use the following code: model.predict_proba(test)[:,1], and we get only the probabability of selecting 1."
      ],
      "execution_count": 33,
      "outputs": []
    },
    {
      "cell_type": "markdown",
      "metadata": {
        "id": "GyS6FxuoUIoq"
      },
      "source": [
        "Question 2\n",
        "What's the AUC of this model on the validation dataset? (round to 3 digits)"
      ]
    },
    {
      "cell_type": "code",
      "metadata": {
        "colab": {
          "base_uri": "https://localhost:8080/"
        },
        "id": "Ti0VAQpeYwMg",
        "outputId": "d731cb06-93d9-4a57-8e30-d05f7755e589"
      },
      "source": [
        "auc_val = roc_auc_score(y_val, y_pred)\n",
        "auc_round = round(auc_val, 2)\n",
        "print(auc_round)"
      ],
      "execution_count": 24,
      "outputs": [
        {
          "output_type": "stream",
          "name": "stdout",
          "text": [
            "0.81\n"
          ]
        }
      ]
    },
    {
      "cell_type": "markdown",
      "metadata": {
        "id": "dn1ZMUNolc9G"
      },
      "source": [
        "**interpretation of AUC**\n",
        "\n",
        "AUC here is the probabiliy of choosing positive prediction over negative predictions. Remember y_pred here is the array of probabilities of selecting either 0 or 1. A bootstrap will show that:"
      ]
    },
    {
      "cell_type": "code",
      "metadata": {
        "id": "IfMpWoMMl83G"
      },
      "source": [
        "neg = y_pred[y_val == 0]\n",
        "pos = y_pred[y_val == 1]"
      ],
      "execution_count": 36,
      "outputs": []
    },
    {
      "cell_type": "code",
      "metadata": {
        "colab": {
          "base_uri": "https://localhost:8080/"
        },
        "id": "1ni5L6FZmxbk",
        "outputId": "fdd445e6-ce62-414f-b47a-be9debd94778"
      },
      "source": [
        "#random prediction of integers using numpy and bootstrapping\n",
        "n= 100000\n",
        "pos_idx = np.random.randint(0, len(pos), size = n)\n",
        "neg_idx = np.random.randint(0, len(neg), size = n)\n",
        "pos_idx"
      ],
      "execution_count": 37,
      "outputs": [
        {
          "output_type": "execute_result",
          "data": {
            "text/plain": [
              "array([133, 173, 157, ..., 198,  85,  17])"
            ]
          },
          "metadata": {},
          "execution_count": 37
        }
      ]
    },
    {
      "cell_type": "code",
      "metadata": {
        "colab": {
          "base_uri": "https://localhost:8080/"
        },
        "id": "RdJjJxi7ntmQ",
        "outputId": "d3c64425-6671-4962-9599-43b835bb5d95"
      },
      "source": [
        "#now checking how many predictions of bootstrap simutaions match with actual positive and negative array (pos and neg)\n",
        "(pos[pos_idx] > neg[neg_idx]).mean()\n"
      ],
      "execution_count": 39,
      "outputs": [
        {
          "output_type": "execute_result",
          "data": {
            "text/plain": [
              "0.81166"
            ]
          },
          "metadata": {},
          "execution_count": 39
        }
      ]
    },
    {
      "cell_type": "markdown",
      "metadata": {
        "id": "ZtL0jnmJofmG"
      },
      "source": [
        "This value is close to actual "
      ]
    },
    {
      "cell_type": "markdown",
      "metadata": {
        "id": "ELhcGbM0sVR_"
      },
      "source": [
        "binary model comparison"
      ]
    },
    {
      "cell_type": "code",
      "metadata": {
        "id": "KtMFLEEqa4wy"
      },
      "source": [
        "y_pred_binary = model.predict(X_val)#it will predict #model.predict"
      ],
      "execution_count": 40,
      "outputs": []
    },
    {
      "cell_type": "code",
      "metadata": {
        "id": "slPzigZcajve"
      },
      "source": [
        "fpr, tpr, _ = roc_curve(y_val, y_pred)\n",
        "fpr_b, tpr_b, _ = roc_curve(y_val, y_pred_binary)"
      ],
      "execution_count": 41,
      "outputs": []
    },
    {
      "cell_type": "code",
      "metadata": {
        "colab": {
          "base_uri": "https://localhost:8080/",
          "height": 281
        },
        "id": "gbmWcwhPcADa",
        "outputId": "1f2781bb-d01f-4b75-c15e-bd14c0f6205f"
      },
      "source": [
        "plt.plot(fpr, tpr, color = 'blue')\n",
        "plt.plot(fpr_b, tpr_b, color = 'red')"
      ],
      "execution_count": 42,
      "outputs": [
        {
          "output_type": "execute_result",
          "data": {
            "text/plain": [
              "[<matplotlib.lines.Line2D at 0x7f887e245650>]"
            ]
          },
          "metadata": {},
          "execution_count": 42
        },
        {
          "output_type": "display_data",
          "data": {
            "image/png": "[encoded data removed]",
            "text/plain": [
              "<Figure size 432x288 with 1 Axes>"
            ]
          },
          "metadata": {
            "needs_background": "light"
          }
        }
      ]
    },
    {
      "cell_type": "markdown",
      "metadata": {
        "id": "NEJDayTyZzZ5"
      },
      "source": [
        "Question 3\n",
        "Now let's compute precision and recall for our model.\n",
        "\n",
        "Evaluate the model on all thresholds from 0.0 to 1.0 with step 0.01\n",
        "For each threshold, compute precision and recall\n",
        "Plot them\n",
        "At which threshold precision and recall curves intersect?"
      ]
    },
    {
      "cell_type": "code",
      "metadata": {
        "id": "9JcNwolOAELV"
      },
      "source": [
        "#confusion matrix with iterating for thresholds using Alexey's algorithm. \n",
        "\n",
        "def confusion_matrix_dataframe(y_val, y_pred):\n",
        "  scores = []\n",
        "  thresholds= np.linspace(0, 1, 101)\n",
        "\n",
        "  for t in thresholds:\n",
        "    actual_positive = (y_val == 1)\n",
        "    actual_negative = (y_val == 0)\n",
        "\n",
        "    predicted_positive = (y_pred >=t)\n",
        "    predicted_negative = (y_pred < t)\n",
        "\n",
        "    tp = (actual_positive & predicted_positive).sum() #true positive\n",
        "    tn = (actual_negative & predicted_negative).sum()# true negative\n",
        "    fp = (actual_negative & predicted_positive).sum()#false positive\n",
        "    fn = (actual_positive & predicted_negative).sum()# false positive\n",
        "\n",
        "    scores.append((t, tp, tn, fp, fn))\n",
        "  columns = ['threshold', 'tp', 'tn', 'fp', 'fn']  \n",
        "  df_scores = pd.DataFrame(scores, columns = columns)\n",
        "  return df_scores\n",
        "  \n"
      ],
      "execution_count": 43,
      "outputs": []
    },
    {
      "cell_type": "code",
      "metadata": {
        "colab": {
          "base_uri": "https://localhost:8080/",
          "height": 387
        },
        "id": "k46cMndkEnwf",
        "outputId": "40e37cbc-7210-47a5-899d-7cf80fb7eb8b"
      },
      "source": [
        "df_scores = confusion_matrix_dataframe(y_val, y_pred)\n",
        "\n",
        "df_scores['precision'] = df_scores['tp']/(df_scores['tp'] + df_scores['fp'])\n",
        "df_scores['recall'] = df_scores['tp']/(df_scores['tp'] + df_scores['fn'])\n",
        "\n",
        "\n",
        "df_scores[::10]"
      ],
      "execution_count": 44,
      "outputs": [
        {
          "output_type": "execute_result",
          "data": {
            "text/html": [
              "<div>\n",
              "<style scoped>\n",
              "    .dataframe tbody tr th:only-of-type {\n",
              "        vertical-align: middle;\n",
              "    }\n",
              "\n",
              "    .dataframe tbody tr th {\n",
              "        vertical-align: top;\n",
              "    }\n",
              "\n",
              "    .dataframe thead th {\n",
              "        text-align: right;\n",
              "    }\n",
              "</style>\n",
              "<table border=\"1\" class=\"dataframe\">\n",
              "  <thead>\n",
              "    <tr style=\"text-align: right;\">\n",
              "      <th></th>\n",
              "      <th>threshold</th>\n",
              "      <th>tp</th>\n",
              "      <th>tn</th>\n",
              "      <th>fp</th>\n",
              "      <th>fn</th>\n",
              "      <th>precision</th>\n",
              "      <th>recall</th>\n",
              "    </tr>\n",
              "  </thead>\n",
              "  <tbody>\n",
              "    <tr>\n",
              "      <th>0</th>\n",
              "      <td>0.0</td>\n",
              "      <td>246</td>\n",
              "      <td>0</td>\n",
              "      <td>645</td>\n",
              "      <td>0</td>\n",
              "      <td>0.276094</td>\n",
              "      <td>1.000000</td>\n",
              "    </tr>\n",
              "    <tr>\n",
              "      <th>10</th>\n",
              "      <td>0.1</td>\n",
              "      <td>235</td>\n",
              "      <td>200</td>\n",
              "      <td>445</td>\n",
              "      <td>11</td>\n",
              "      <td>0.345588</td>\n",
              "      <td>0.955285</td>\n",
              "    </tr>\n",
              "    <tr>\n",
              "      <th>20</th>\n",
              "      <td>0.2</td>\n",
              "      <td>215</td>\n",
              "      <td>378</td>\n",
              "      <td>267</td>\n",
              "      <td>31</td>\n",
              "      <td>0.446058</td>\n",
              "      <td>0.873984</td>\n",
              "    </tr>\n",
              "    <tr>\n",
              "      <th>30</th>\n",
              "      <td>0.3</td>\n",
              "      <td>187</td>\n",
              "      <td>483</td>\n",
              "      <td>162</td>\n",
              "      <td>59</td>\n",
              "      <td>0.535817</td>\n",
              "      <td>0.760163</td>\n",
              "    </tr>\n",
              "    <tr>\n",
              "      <th>40</th>\n",
              "      <td>0.4</td>\n",
              "      <td>140</td>\n",
              "      <td>545</td>\n",
              "      <td>100</td>\n",
              "      <td>106</td>\n",
              "      <td>0.583333</td>\n",
              "      <td>0.569106</td>\n",
              "    </tr>\n",
              "    <tr>\n",
              "      <th>50</th>\n",
              "      <td>0.5</td>\n",
              "      <td>114</td>\n",
              "      <td>581</td>\n",
              "      <td>64</td>\n",
              "      <td>132</td>\n",
              "      <td>0.640449</td>\n",
              "      <td>0.463415</td>\n",
              "    </tr>\n",
              "    <tr>\n",
              "      <th>60</th>\n",
              "      <td>0.6</td>\n",
              "      <td>78</td>\n",
              "      <td>607</td>\n",
              "      <td>38</td>\n",
              "      <td>168</td>\n",
              "      <td>0.672414</td>\n",
              "      <td>0.317073</td>\n",
              "    </tr>\n",
              "    <tr>\n",
              "      <th>70</th>\n",
              "      <td>0.7</td>\n",
              "      <td>37</td>\n",
              "      <td>629</td>\n",
              "      <td>16</td>\n",
              "      <td>209</td>\n",
              "      <td>0.698113</td>\n",
              "      <td>0.150407</td>\n",
              "    </tr>\n",
              "    <tr>\n",
              "      <th>80</th>\n",
              "      <td>0.8</td>\n",
              "      <td>21</td>\n",
              "      <td>640</td>\n",
              "      <td>5</td>\n",
              "      <td>225</td>\n",
              "      <td>0.807692</td>\n",
              "      <td>0.085366</td>\n",
              "    </tr>\n",
              "    <tr>\n",
              "      <th>90</th>\n",
              "      <td>0.9</td>\n",
              "      <td>6</td>\n",
              "      <td>643</td>\n",
              "      <td>2</td>\n",
              "      <td>240</td>\n",
              "      <td>0.750000</td>\n",
              "      <td>0.024390</td>\n",
              "    </tr>\n",
              "    <tr>\n",
              "      <th>100</th>\n",
              "      <td>1.0</td>\n",
              "      <td>0</td>\n",
              "      <td>645</td>\n",
              "      <td>0</td>\n",
              "      <td>246</td>\n",
              "      <td>NaN</td>\n",
              "      <td>0.000000</td>\n",
              "    </tr>\n",
              "  </tbody>\n",
              "</table>\n",
              "</div>"
            ],
            "text/plain": [
              "     threshold   tp   tn   fp   fn  precision    recall\n",
              "0          0.0  246    0  645    0   0.276094  1.000000\n",
              "10         0.1  235  200  445   11   0.345588  0.955285\n",
              "20         0.2  215  378  267   31   0.446058  0.873984\n",
              "30         0.3  187  483  162   59   0.535817  0.760163\n",
              "40         0.4  140  545  100  106   0.583333  0.569106\n",
              "50         0.5  114  581   64  132   0.640449  0.463415\n",
              "60         0.6   78  607   38  168   0.672414  0.317073\n",
              "70         0.7   37  629   16  209   0.698113  0.150407\n",
              "80         0.8   21  640    5  225   0.807692  0.085366\n",
              "90         0.9    6  643    2  240   0.750000  0.024390\n",
              "100        1.0    0  645    0  246        NaN  0.000000"
            ]
          },
          "metadata": {},
          "execution_count": 44
        }
      ]
    },
    {
      "cell_type": "code",
      "metadata": {
        "colab": {
          "base_uri": "https://localhost:8080/",
          "height": 281
        },
        "id": "LIYDrEn_GEEe",
        "outputId": "693476f4-0dfd-4aa1-fd2b-448b0366a976"
      },
      "source": [
        "plt.plot(df_scores.threshold, df_scores.precision)\n",
        "plt.plot(df_scores.threshold, df_scores.recall)"
      ],
      "execution_count": 45,
      "outputs": [
        {
          "output_type": "execute_result",
          "data": {
            "text/plain": [
              "[<matplotlib.lines.Line2D at 0x7f887cf43d90>]"
            ]
          },
          "metadata": {},
          "execution_count": 45
        },
        {
          "output_type": "display_data",
          "data": {
            "image/png": "[encoded data removed]",
            "text/plain": [
              "<Figure size 432x288 with 1 Axes>"
            ]
          },
          "metadata": {
            "needs_background": "light"
          }
        }
      ]
    },
    {
      "cell_type": "markdown",
      "metadata": {
        "id": "PMnsy34rHg0Y"
      },
      "source": [
        "**Question 4**\n",
        "\n",
        "Precision and recall are conflicting - when one grows, the other goes down. That's why they are often combined into the F1 score - a metrics that takes into account both\n",
        "\n",
        "This is the formula for computing F1:\n",
        "\n",
        "F1 = 2 * P * R / (P + R) (hey this looks like the formula for reduced mass!!)\n",
        "\n",
        "Where P is precision and R is recall.\n",
        "\n",
        "Let's compute F1 for all thresholds from 0.0 to 1.0 with increment 0.01\n",
        "\n",
        "At which threshold F1 is maximal?"
      ]
    },
    {
      "cell_type": "code",
      "metadata": {
        "id": "T-nw5niJHgDP"
      },
      "source": [
        "df_scores['F1'] = 2 * df_scores['precision'] * df_scores['recall']/(df_scores['precision'] + df_scores['recall'])"
      ],
      "execution_count": 46,
      "outputs": []
    },
    {
      "cell_type": "code",
      "metadata": {
        "colab": {
          "base_uri": "https://localhost:8080/",
          "height": 281
        },
        "id": "ppeHYnz6InkX",
        "outputId": "33826e4d-31d8-4812-ea32-a25ba59ced02"
      },
      "source": [
        "plt.plot(df_scores.threshold, df_scores.F1)"
      ],
      "execution_count": 47,
      "outputs": [
        {
          "output_type": "execute_result",
          "data": {
            "text/plain": [
              "[<matplotlib.lines.Line2D at 0x7f887ce9b490>]"
            ]
          },
          "metadata": {},
          "execution_count": 47
        },
        {
          "output_type": "display_data",
          "data": {
            "image/png": "[encoded data removed]",
            "text/plain": [
              "<Figure size 432x288 with 1 Axes>"
            ]
          },
          "metadata": {
            "needs_background": "light"
          }
        }
      ]
    },
    {
      "cell_type": "code",
      "metadata": {
        "colab": {
          "base_uri": "https://localhost:8080/"
        },
        "id": "fLNpEpXWK6pn",
        "outputId": "2b9f4594-0244-4765-d0bf-c8723dde8991"
      },
      "source": [
        "df_scores['F1'].argmax()"
      ],
      "execution_count": 53,
      "outputs": [
        {
          "output_type": "execute_result",
          "data": {
            "text/plain": [
              "30"
            ]
          },
          "metadata": {},
          "execution_count": 53
        }
      ]
    },
    {
      "cell_type": "code",
      "metadata": {
        "colab": {
          "base_uri": "https://localhost:8080/"
        },
        "id": "nEC__em-K8uG",
        "outputId": "1fb284b6-1cca-4a94-8b55-dbf51ddac4b9"
      },
      "source": [
        "df_scores['threshold'].iloc[30]"
      ],
      "execution_count": 54,
      "outputs": [
        {
          "output_type": "execute_result",
          "data": {
            "text/plain": [
              "0.3"
            ]
          },
          "metadata": {},
          "execution_count": 54
        }
      ]
    },
    {
      "cell_type": "markdown",
      "metadata": {
        "id": "b49TPA7BLIKJ"
      },
      "source": [
        "**Question 5**\n",
        "\n",
        "Use the KFold class from Scikit-Learn to evaluate our model on 5 different folds:\n",
        "\n",
        "KFold(n_splits=5, shuffle=True, random_state=1)\n",
        "\n",
        "Iterate over different folds of df_full_train\n",
        "\n",
        "Split the data into train and validation\n",
        "\n",
        "Train the model on train with these parameters: LogisticRegression(solver='liblinear', C=1.0, max_iter=1000)\n",
        "\n",
        "Use AUC to evaluate the model on validation\n",
        "\n",
        "How large is standard devidation of the AUC scores across different folds?"
      ]
    },
    {
      "cell_type": "code",
      "metadata": {
        "id": "4uWQj8UWRWUV"
      },
      "source": [
        "from sklearn.feature_extraction import DictVectorizer"
      ],
      "execution_count": 55,
      "outputs": []
    },
    {
      "cell_type": "code",
      "metadata": {
        "id": "v_DOXToIJEHG"
      },
      "source": [
        "def train(df_train, y_train, C):\n",
        "  dicts = df_train[cat + num].to_dict(orient = 'records')\n",
        "\n",
        "  dv = DictVectorizer(sparse = False)\n",
        "  X_train = dv.fit_transform(dicts)\n",
        "  model = LogisticRegression(solver='liblinear', C=C, max_iter=1000)\n",
        "  model.fit(X_train, y_train)\n",
        "\n",
        "  return dv, model\n"
      ],
      "execution_count": 142,
      "outputs": []
    },
    {
      "cell_type": "code",
      "metadata": {
        "id": "u9iPcM_ZJ5fp"
      },
      "source": [
        "def predict(df, dv, model):\n",
        "  dicts = df_val[cat + num].to_dict(orient = 'records')\n",
        "  X = dv.transform(dicts)\n",
        "  y_pred = model.predict_proba(X)[:, 1]\n",
        "\n",
        "  return y_pred\n"
      ],
      "execution_count": 143,
      "outputs": []
    },
    {
      "cell_type": "code",
      "metadata": {
        "id": "lyxJWdLH5s6C"
      },
      "source": [
        "from sklearn.model_selection import KFold"
      ],
      "execution_count": 144,
      "outputs": []
    },
    {
      "cell_type": "code",
      "metadata": {
        "id": "OV1B3-LU54mh"
      },
      "source": [
        "kfold = KFold(n_splits = 5, shuffle = True, random_state = 1)"
      ],
      "execution_count": 145,
      "outputs": []
    },
    {
      "cell_type": "code",
      "metadata": {
        "id": "KPb7aFdx7sXL"
      },
      "source": [
        "train_idx, val_idx = next(kfold.split(df_full_train))\n",
        "#The next() function returns the next item from the iterator.\n",
        "#kfold_split : splits train data, here it's the full_train data into train and val sets"
      ],
      "execution_count": 122,
      "outputs": []
    },
    {
      "cell_type": "code",
      "metadata": {
        "id": "nIe3BT5G8bCD"
      },
      "source": [
        "len(train_idx), len(val_idx)"
      ],
      "execution_count": null,
      "outputs": []
    },
    {
      "cell_type": "code",
      "metadata": {
        "id": "pg56Gi29IcGD"
      },
      "source": [
        "scores = []\n",
        "for train_idx, val_idx in kfold.split(df_full_train):\n",
        "  df_train = df_full_train.iloc[train_idx]\n",
        "  df_val = df_full_train.iloc[val_idx]\n",
        "\n",
        "  y_train = df_train.default.values\n",
        "  dv, model = train(df_train, y_train, C= 1.0)\n",
        "\n",
        "  y_val = df_val.default.values\n",
        "  y_pred = predict(df_val, dv, model)\n",
        "\n",
        "  auc = roc_auc_score(y_val, y_pred)\n",
        "  scores.append(auc)\n",
        "\n"
      ],
      "execution_count": 147,
      "outputs": []
    },
    {
      "cell_type": "code",
      "metadata": {
        "colab": {
          "base_uri": "https://localhost:8080/"
        },
        "id": "rR3bOCJpPvgh",
        "outputId": "ad04b760-595c-4d2e-b1ce-f42fb649d4a2"
      },
      "source": [
        "scores"
      ],
      "execution_count": 148,
      "outputs": [
        {
          "output_type": "execute_result",
          "data": {
            "text/plain": [
              "[0.8552717552717553,\n",
              " 0.8651451045825636,\n",
              " 0.8297229972100437,\n",
              " 0.8564831191290335,\n",
              " 0.8171524250078043]"
            ]
          },
          "metadata": {},
          "execution_count": 148
        }
      ]
    },
    {
      "cell_type": "code",
      "metadata": {
        "colab": {
          "base_uri": "https://localhost:8080/"
        },
        "id": "4tpC6XwWP195",
        "outputId": "f15684be-bcb4-4e85-eae5-e96799886d72"
      },
      "source": [
        "np.mean(scores)"
      ],
      "execution_count": 149,
      "outputs": [
        {
          "output_type": "execute_result",
          "data": {
            "text/plain": [
              "0.84475508024024"
            ]
          },
          "metadata": {},
          "execution_count": 149
        }
      ]
    },
    {
      "cell_type": "code",
      "metadata": {
        "colab": {
          "base_uri": "https://localhost:8080/"
        },
        "id": "-pM57ua3P4VQ",
        "outputId": "21e6717d-35d2-4321-945d-25794b94b5d2"
      },
      "source": [
        "np.std(scores)"
      ],
      "execution_count": 150,
      "outputs": [
        {
          "output_type": "execute_result",
          "data": {
            "text/plain": [
              "0.018175646006035235"
            ]
          },
          "metadata": {},
          "execution_count": 150
        }
      ]
    },
    {
      "cell_type": "markdown",
      "metadata": {
        "id": "giHCp_6vUMFq"
      },
      "source": [
        "**Question 6**\n",
        "Now let's use 5-Fold cross-validation to find the best parameter C\n",
        "\n",
        "Iterate over the following C values: [0.01, 0.1, 1, 10]\n",
        "\n",
        "Initialize KFold with the same parameters as previously\n",
        "\n",
        "Use these parametes for the model: LogisticRegression(solver='liblinear', C=C, max_iter=1000)\n",
        "\n",
        "Compute the mean score as well as the std (round the mean and std to 3 decimal digits)\n",
        "\n",
        "Which C leads to the best mean score?\n",
        "\n",
        "0.01\n",
        "\n",
        "0.1\n",
        "\n",
        "1\n",
        "\n",
        "10\n",
        "\n",
        "If you have ties, select the score with the lowest std. If you still have ties, select the smallest C"
      ]
    },
    {
      "cell_type": "code",
      "metadata": {
        "id": "wQQwtBlaUegZ"
      },
      "source": [
        "kfold = KFold(n_splits = 5, shuffle = True, random_state = 1)"
      ],
      "execution_count": 151,
      "outputs": []
    },
    {
      "cell_type": "code",
      "metadata": {
        "id": "_UW3AbCsUi9H"
      },
      "source": [
        "model = LogisticRegression(solver='liblinear', C=C, max_iter=1000)"
      ],
      "execution_count": 152,
      "outputs": []
    },
    {
      "cell_type": "code",
      "metadata": {
        "colab": {
          "base_uri": "https://localhost:8080/"
        },
        "id": "2WiAJnG4UWzJ",
        "outputId": "e7960720-ea2c-4766-91e6-96ff01fc2ab6"
      },
      "source": [
        "for C in [0.01, 0.1, 1, 10]:\n",
        "  scores = []\n",
        "  for train_idx, val_idx in kfold.split(df_full_train):\n",
        "    df_train = df_full_train.iloc[train_idx]\n",
        "    df_val = df_full_train.iloc[val_idx]\n",
        "\n",
        "    y_train = df_train.default.values\n",
        "    dv, model = train(df_train, y_train, C= C)\n",
        "\n",
        "    y_val = df_val.default.values\n",
        "    y_pred = predict(df_val, dv, model)\n",
        "\n",
        "    auc = roc_auc_score(y_val, y_pred)\n",
        "    scores.append(auc)\n",
        "  mean = np.mean(scores)\n",
        "  std_dev = np.std(scores)\n",
        "  print(C, mean, std_dev)  "
      ],
      "execution_count": 154,
      "outputs": [
        {
          "output_type": "stream",
          "name": "stdout",
          "text": [
            "0.01 0.8338085258608743 0.020169906622779638\n",
            "0.1 0.84240095225638 0.01823289974594603\n",
            "1 0.84475508024024 0.018175646006035235\n",
            "10 0.8436289690990373 0.016805468145971354\n"
          ]
        }
      ]
    }
  ]
}